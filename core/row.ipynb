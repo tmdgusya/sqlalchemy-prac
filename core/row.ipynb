{
 "cells": [
  {
   "cell_type": "code",
   "execution_count": 2,
   "metadata": {},
   "outputs": [],
   "source": [
    "from sqlalchemy import create_engine, text\n",
    "\n",
    "engine = create_engine(\"sqlite+pysqlite:///:memory:\", echo=True)"
   ]
  },
  {
   "cell_type": "code",
   "execution_count": 3,
   "metadata": {},
   "outputs": [
    {
     "name": "stdout",
     "output_type": "stream",
     "text": [
      "2025-04-25 00:06:06,351 INFO sqlalchemy.engine.Engine BEGIN (implicit)\n",
      "2025-04-25 00:06:06,353 INFO sqlalchemy.engine.Engine CREATE TABLE some_table (x int, y int)\n",
      "2025-04-25 00:06:06,354 INFO sqlalchemy.engine.Engine [generated in 0.00253s] ()\n",
      "2025-04-25 00:06:06,357 INFO sqlalchemy.engine.Engine INSERT INTO some_table (x, y) VALUES (?, ?)\n",
      "2025-04-25 00:06:06,357 INFO sqlalchemy.engine.Engine [generated in 0.00100s] [(1, 2), (3, 4)]\n",
      "2025-04-25 00:06:06,359 INFO sqlalchemy.engine.Engine COMMIT\n"
     ]
    }
   ],
   "source": [
    "with engine.connect() as conn:\n",
    "    conn.execute(text(\"CREATE TABLE some_table (x int, y int)\"))\n",
    "    conn.execute(text(\"INSERT INTO some_table (x, y) VALUES (:x, :y)\"), [{\"x\": 1, \"y\": 2}, {\"x\": 3, \"y\": 4}])\n",
    "    conn.commit()"
   ]
  },
  {
   "cell_type": "markdown",
   "metadata": {},
   "source": [
    "# Result\n",
    "\n",
    "`Result` 는 **순회가능(Iterable)**한 객체로 객체를 다른 형태로 **변환(transform)**시키는 작업이나 하나하나씩 순회하면서 확인하기 좋습니다."
   ]
  },
  {
   "cell_type": "code",
   "execution_count": 4,
   "metadata": {},
   "outputs": [
    {
     "name": "stdout",
     "output_type": "stream",
     "text": [
      "2025-04-25 00:08:21,655 INFO sqlalchemy.engine.Engine BEGIN (implicit)\n",
      "2025-04-25 00:08:21,656 INFO sqlalchemy.engine.Engine SELECT x, y FROM some_table\n",
      "2025-04-25 00:08:21,657 INFO sqlalchemy.engine.Engine [generated in 0.00043s] ()\n",
      "<class 'sqlalchemy.engine.cursor.CursorResult'>\n",
      "x: 1, y: 2\n",
      "x: 3, y: 4\n",
      "2025-04-25 00:08:21,658 INFO sqlalchemy.engine.Engine COMMIT\n"
     ]
    }
   ],
   "source": [
    "with engine.begin() as conn:\n",
    "    result = conn.execute(text(\"SELECT x, y FROM some_table\"))\n",
    "    print(type(result))\n",
    "    for row in result:\n",
    "        print(f\"x: {row.x}, y: {row.y}\")"
   ]
  },
  {
   "cell_type": "markdown",
   "metadata": {},
   "source": [
    "## Row\n",
    "\n",
    "**Result** 자료구조 안에 들어가있는 **Row** 도 독특한데요. 파이썬에서 간단하게 불변(immutable)적인 자료구조를 만들 수 있도록 도와주는 `namedtuple` 로 구성되어 있습니다. 따라서 아래와 같은 **언패킹**기능도 활용하여 조금 더 직관적으로 코드를 작성할 수 있습니다."
   ]
  },
  {
   "cell_type": "code",
   "execution_count": 15,
   "metadata": {},
   "outputs": [
    {
     "name": "stdout",
     "output_type": "stream",
     "text": [
      "2025-04-25 00:21:09,976 INFO sqlalchemy.engine.Engine BEGIN (implicit)\n",
      "2025-04-25 00:21:09,978 INFO sqlalchemy.engine.Engine SELECT x, y FROM some_table\n",
      "2025-04-25 00:21:09,979 INFO sqlalchemy.engine.Engine [cached since 768.3s ago] ()\n",
      "[Data (1, 2), Data (3, 4)]\n",
      "2025-04-25 00:21:09,980 INFO sqlalchemy.engine.Engine COMMIT\n"
     ]
    }
   ],
   "source": [
    "class Data():\n",
    "\n",
    "    def __init__(self, x, y) -> None:\n",
    "        self.x = x\n",
    "        self.y = y\n",
    "    \n",
    "    def __repr__(self) -> str:\n",
    "        return f\"Data ({self.x}, {self.y})\"\n",
    "\n",
    "with engine.begin() as conn:\n",
    "    result = conn.execute(text(\"SELECT x, y FROM some_table\"))\n",
    "    \"\"\"\n",
    "    언패킹을 활용한 데이터에 쉽게 담기\n",
    "    \"\"\"\n",
    "    data = [Data(*row) for row in result]\n",
    "    print(data)"
   ]
  },
  {
   "cell_type": "code",
   "execution_count": 16,
   "metadata": {},
   "outputs": [
    {
     "name": "stdout",
     "output_type": "stream",
     "text": [
      "2025-04-25 00:21:13,280 INFO sqlalchemy.engine.Engine BEGIN (implicit)\n",
      "2025-04-25 00:21:13,282 INFO sqlalchemy.engine.Engine SELECT x, y FROM some_table\n",
      "2025-04-25 00:21:13,283 INFO sqlalchemy.engine.Engine [cached since 771.6s ago] ()\n",
      "[Data (1, 2), Data (3, 4)]\n",
      "2025-04-25 00:21:13,284 INFO sqlalchemy.engine.Engine COMMIT\n"
     ]
    }
   ],
   "source": [
    "class Data():\n",
    "\n",
    "    def __init__(self, **kwargs) -> None:\n",
    "        self.x = kwargs[\"x\"]\n",
    "        self.y = kwargs[\"y\"]\n",
    "    \n",
    "    def __repr__(self) -> str:\n",
    "        return f\"Data ({self.x}, {self.y})\"\n",
    "\n",
    "with engine.begin() as conn:\n",
    "    result = conn.execute(text(\"SELECT x, y FROM some_table\"))\n",
    "    \"\"\"\n",
    "    언패킹을 활용한 데이터에 쉽게 담기\n",
    "    \"\"\"\n",
    "    data = [Data(**row._mapping) for row in result]\n",
    "    print(data)"
   ]
  }
 ],
 "metadata": {
  "kernelspec": {
   "display_name": ".venv",
   "language": "python",
   "name": "python3"
  },
  "language_info": {
   "codemirror_mode": {
    "name": "ipython",
    "version": 3
   },
   "file_extension": ".py",
   "mimetype": "text/x-python",
   "name": "python",
   "nbconvert_exporter": "python",
   "pygments_lexer": "ipython3",
   "version": "3.13.2"
  }
 },
 "nbformat": 4,
 "nbformat_minor": 2
}
